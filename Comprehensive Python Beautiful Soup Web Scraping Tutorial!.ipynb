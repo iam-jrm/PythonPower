{
 "cells": [
  {
   "cell_type": "markdown",
   "id": "baf29d23",
   "metadata": {},
   "source": [
    "### Comprehensive Python Beautiful Soup Web Scraping Tutorial! (find/find_all, css select, scrape table)\n",
    "https://www.youtube.com/watch?v=GjKQ6V_ViQE\n",
    "\n",
    "https://github.com/KeithGalli/web-scraping/blob/master/web_scraping_tutorial.ipynb\n",
    "\n",
    "https://beautiful-soup-4.readthedocs.io/en/latest/#"
   ]
  },
  {
   "cell_type": "markdown",
   "id": "a58203ee",
   "metadata": {},
   "source": [
    "Additional Video:\n",
    "https://www.youtube.com/watch?v=Ewgy-G9cmbg"
   ]
  },
  {
   "cell_type": "markdown",
   "id": "783fa00d",
   "metadata": {},
   "source": [
    "### Load the necessary libs"
   ]
  },
  {
   "cell_type": "code",
   "execution_count": null,
   "id": "9ad2a110",
   "metadata": {},
   "outputs": [],
   "source": []
  },
  {
   "cell_type": "code",
   "execution_count": 1,
   "id": "5bed2765",
   "metadata": {},
   "outputs": [],
   "source": [
    "\n",
    "import requests\n",
    "from bs4 import BeautifulSoup as bs"
   ]
  },
  {
   "cell_type": "markdown",
   "id": "2ccb154e",
   "metadata": {},
   "source": [
    "### Load our first page"
   ]
  },
  {
   "cell_type": "code",
   "execution_count": 3,
   "id": "076264d1",
   "metadata": {},
   "outputs": [
    {
     "name": "stdout",
     "output_type": "stream",
     "text": [
      "<html>\n",
      " <head>\n",
      "  <title>\n",
      "   HTML Example\n",
      "  </title>\n",
      " </head>\n",
      " <body>\n",
      "  <div align=\"middle\">\n",
      "   <h1>\n",
      "    HTML Webpage\n",
      "   </h1>\n",
      "   <p>\n",
      "    Link to more interesting example:\n",
      "    <a href=\"https://keithgalli.github.io/web-scraping/webpage.html\">\n",
      "     keithgalli.github.io/web-scraping/webpage.html\n",
      "    </a>\n",
      "   </p>\n",
      "  </div>\n",
      "  <h2>\n",
      "   A Header\n",
      "  </h2>\n",
      "  <p>\n",
      "   <i>\n",
      "    Some italicized text\n",
      "   </i>\n",
      "  </p>\n",
      "  <h2>\n",
      "   Another header\n",
      "  </h2>\n",
      "  <p id=\"paragraph-id\">\n",
      "   <b>\n",
      "    Some bold text\n",
      "   </b>\n",
      "  </p>\n",
      " </body>\n",
      "</html>\n",
      "\n"
     ]
    }
   ],
   "source": [
    "# load the webpage content\n",
    "r = requests.get(\"https://keithgalli.github.io/web-scraping/example.html\")\n",
    "\n",
    "# Convert to a beautiful soup object\n",
    "soup = bs(r.content)\n",
    "\n",
    "# print the html\n",
    "print(soup.prettify())"
   ]
  },
  {
   "cell_type": "markdown",
   "id": "073aad0e",
   "metadata": {},
   "source": [
    "### Scraping using BeautifulSoup lib"
   ]
  },
  {
   "cell_type": "code",
   "execution_count": 4,
   "id": "73066c72",
   "metadata": {},
   "outputs": [
    {
     "data": {
      "text/plain": [
       "<html>\n",
       "<head>\n",
       "<title>HTML Example</title>\n",
       "</head>\n",
       "<body>\n",
       "<div align=\"middle\">\n",
       "<h1>HTML Webpage</h1>\n",
       "<p>Link to more interesting example: <a href=\"https://keithgalli.github.io/web-scraping/webpage.html\">keithgalli.github.io/web-scraping/webpage.html</a></p>\n",
       "</div>\n",
       "<h2>A Header</h2>\n",
       "<p><i>Some italicized text</i></p>\n",
       "<h2>Another header</h2>\n",
       "<p id=\"paragraph-id\"><b>Some bold text</b></p>\n",
       "</body>\n",
       "</html>"
      ]
     },
     "execution_count": 4,
     "metadata": {},
     "output_type": "execute_result"
    }
   ],
   "source": [
    "soup"
   ]
  },
  {
   "cell_type": "code",
   "execution_count": 5,
   "id": "7a6e6608",
   "metadata": {},
   "outputs": [
    {
     "data": {
      "text/plain": [
       "<h2>A Header</h2>"
      ]
     },
     "execution_count": 5,
     "metadata": {},
     "output_type": "execute_result"
    }
   ],
   "source": [
    "first_header = soup.find(\"h2\") # finds the first element that matches the tag\n",
    "first_header"
   ]
  },
  {
   "cell_type": "code",
   "execution_count": 6,
   "id": "c41e0da1",
   "metadata": {},
   "outputs": [
    {
     "data": {
      "text/plain": [
       "[<h2>A Header</h2>, <h2>Another header</h2>]"
      ]
     },
     "execution_count": 6,
     "metadata": {},
     "output_type": "execute_result"
    }
   ],
   "source": [
    "headers = soup.find_all(\"h2\") # finds all the elements that matches the tag\n",
    "headers"
   ]
  },
  {
   "cell_type": "code",
   "execution_count": 8,
   "id": "6c6a43ba",
   "metadata": {},
   "outputs": [
    {
     "data": {
      "text/plain": [
       "<h1>HTML Webpage</h1>"
      ]
     },
     "execution_count": 8,
     "metadata": {},
     "output_type": "execute_result"
    }
   ],
   "source": [
    "# Pass in a list of elements to look for\n",
    "\n",
    "first_header_h1_or_h2 = soup.find([\"h1\", \"h2\"])\n",
    "first_header_h1_or_h2"
   ]
  },
  {
   "cell_type": "code",
   "execution_count": 10,
   "id": "9b150d3a",
   "metadata": {},
   "outputs": [
    {
     "data": {
      "text/plain": [
       "<h1>HTML Webpage</h1>"
      ]
     },
     "execution_count": 10,
     "metadata": {},
     "output_type": "execute_result"
    }
   ],
   "source": [
    "# Pass in a list of elements to look for\n",
    "\n",
    "first_header_h1_or_h2 = soup.find([\"h2\", \"h1\"]) # order does not matter\n",
    "first_header_h1_or_h2\n",
    "\n",
    "## It gets the first element it finds form the list of Tags"
   ]
  },
  {
   "cell_type": "code",
   "execution_count": 11,
   "id": "7381af0f",
   "metadata": {},
   "outputs": [
    {
     "data": {
      "text/plain": [
       "[<h1>HTML Webpage</h1>, <h2>A Header</h2>, <h2>Another header</h2>]"
      ]
     },
     "execution_count": 11,
     "metadata": {},
     "output_type": "execute_result"
    }
   ],
   "source": [
    "headers_h1_or_h2 = soup.find_all([\"h2\", \"h1\"]) # order does not matter. Gets all matching elements.\n",
    "headers_h1_or_h2"
   ]
  },
  {
   "cell_type": "code",
   "execution_count": 12,
   "id": "854a4d5f",
   "metadata": {},
   "outputs": [
    {
     "data": {
      "text/plain": [
       "[<p>Link to more interesting example: <a href=\"https://keithgalli.github.io/web-scraping/webpage.html\">keithgalli.github.io/web-scraping/webpage.html</a></p>,\n",
       " <p><i>Some italicized text</i></p>,\n",
       " <p id=\"paragraph-id\"><b>Some bold text</b></p>]"
      ]
     },
     "execution_count": 12,
     "metadata": {},
     "output_type": "execute_result"
    }
   ],
   "source": [
    "# We can pass attributes to the find/find-all function\n",
    "\n",
    "para = soup.find_all(\"p\")\n",
    "para"
   ]
  },
  {
   "cell_type": "code",
   "execution_count": 14,
   "id": "0f060b1a",
   "metadata": {},
   "outputs": [
    {
     "data": {
      "text/plain": [
       "[<p id=\"paragraph-id\"><b>Some bold text</b></p>]"
      ]
     },
     "execution_count": 14,
     "metadata": {},
     "output_type": "execute_result"
    }
   ],
   "source": [
    "# Additional filtering using a specific attribute\n",
    "\n",
    "para = soup.find_all(\"p\", attrs = {\"id\": \"paragraph-id\"}) \n",
    "para"
   ]
  },
  {
   "cell_type": "code",
   "execution_count": 17,
   "id": "60cf5a2d",
   "metadata": {},
   "outputs": [
    {
     "name": "stdout",
     "output_type": "stream",
     "text": [
      "<body>\n",
      "<div align=\"middle\">\n",
      "<h1>HTML Webpage</h1>\n",
      "<p>Link to more interesting example: <a href=\"https://keithgalli.github.io/web-scraping/webpage.html\">keithgalli.github.io/web-scraping/webpage.html</a></p>\n",
      "</div>\n",
      "<h2>A Header</h2>\n",
      "<p><i>Some italicized text</i></p>\n",
      "<h2>Another header</h2>\n",
      "<p id=\"paragraph-id\"><b>Some bold text</b></p>\n",
      "</body>\n",
      "\n",
      "<div align=\"middle\">\n",
      "<h1>HTML Webpage</h1>\n",
      "<p>Link to more interesting example: <a href=\"https://keithgalli.github.io/web-scraping/webpage.html\">keithgalli.github.io/web-scraping/webpage.html</a></p>\n",
      "</div>\n",
      "\n",
      "<h1>HTML Webpage</h1>\n",
      "\n"
     ]
    }
   ],
   "source": [
    "# You can nest find/find_all calls\n",
    "\n",
    "body = soup.find('body')\n",
    "print(body)\n",
    "print()\n",
    "\n",
    "div = body.find('div')\n",
    "print(div)\n",
    "print()\n",
    "\n",
    "header = div.find('h1')\n",
    "print(header)\n",
    "print()"
   ]
  },
  {
   "cell_type": "code",
   "execution_count": 19,
   "id": "8b17c3cc",
   "metadata": {},
   "outputs": [
    {
     "data": {
      "text/plain": [
       "[<p id=\"paragraph-id\"><b>Some bold text</b></p>]"
      ]
     },
     "execution_count": 19,
     "metadata": {},
     "output_type": "execute_result"
    }
   ],
   "source": [
    "# We can search specific strings in our find/find_all calls\n",
    "\n",
    "## find any paragraph with text 'Some'\n",
    "\n",
    "paragraphs = soup.find_all(\"p\", string = \"Some bold text\")  # Requires full and exact String. not useful.\n",
    "paragraphs"
   ]
  },
  {
   "cell_type": "code",
   "execution_count": 21,
   "id": "b0436032",
   "metadata": {},
   "outputs": [
    {
     "data": {
      "text/plain": [
       "[<p><i>Some italicized text</i></p>,\n",
       " <p id=\"paragraph-id\"><b>Some bold text</b></p>]"
      ]
     },
     "execution_count": 21,
     "metadata": {},
     "output_type": "execute_result"
    }
   ],
   "source": [
    "import re   # Regular expressions\n",
    "\n",
    "paragraphs = soup.find_all(\"p\", string = re.compile(\"Some\"))  # With RegEx lib we can search with partial string\n",
    "paragraphs"
   ]
  },
  {
   "cell_type": "code",
   "execution_count": 23,
   "id": "1d7c6c3f",
   "metadata": {},
   "outputs": [
    {
     "data": {
      "text/plain": [
       "[<h2>A Header</h2>, <h2>Another header</h2>]"
      ]
     },
     "execution_count": 23,
     "metadata": {},
     "output_type": "execute_result"
    }
   ],
   "source": [
    "headers = soup.find_all('h2', string = re.compile(\"(H|h)eader\")) # search with both cases of H\n",
    "headers "
   ]
  },
  {
   "cell_type": "markdown",
   "id": "ba718b5a",
   "metadata": {},
   "source": [
    "### Select method - CSS selector\n",
    "https://www.w3schools.com/cssref/css_selectors.asp"
   ]
  },
  {
   "cell_type": "code",
   "execution_count": 26,
   "id": "f4d4d064",
   "metadata": {},
   "outputs": [
    {
     "name": "stdout",
     "output_type": "stream",
     "text": [
      "<body>\n",
      " <div align=\"middle\">\n",
      "  <h1>\n",
      "   HTML Webpage\n",
      "  </h1>\n",
      "  <p>\n",
      "   Link to more interesting example:\n",
      "   <a href=\"https://keithgalli.github.io/web-scraping/webpage.html\">\n",
      "    keithgalli.github.io/web-scraping/webpage.html\n",
      "   </a>\n",
      "  </p>\n",
      " </div>\n",
      " <h2>\n",
      "  A Header\n",
      " </h2>\n",
      " <p>\n",
      "  <i>\n",
      "   Some italicized text\n",
      "  </i>\n",
      " </p>\n",
      " <h2>\n",
      "  Another header\n",
      " </h2>\n",
      " <p id=\"paragraph-id\">\n",
      "  <b>\n",
      "   Some bold text\n",
      "  </b>\n",
      " </p>\n",
      "</body>\n",
      "\n"
     ]
    }
   ],
   "source": [
    "print(soup.body.prettify())"
   ]
  },
  {
   "cell_type": "code",
   "execution_count": 24,
   "id": "da309d0e",
   "metadata": {},
   "outputs": [
    {
     "data": {
      "text/plain": [
       "[<p>Link to more interesting example: <a href=\"https://keithgalli.github.io/web-scraping/webpage.html\">keithgalli.github.io/web-scraping/webpage.html</a></p>,\n",
       " <p><i>Some italicized text</i></p>,\n",
       " <p id=\"paragraph-id\"><b>Some bold text</b></p>]"
      ]
     },
     "execution_count": 24,
     "metadata": {},
     "output_type": "execute_result"
    }
   ],
   "source": [
    "content = soup.select(\"p\")\n",
    "content"
   ]
  },
  {
   "cell_type": "code",
   "execution_count": 27,
   "id": "da6191d6",
   "metadata": {},
   "outputs": [
    {
     "data": {
      "text/plain": [
       "[<p>Link to more interesting example: <a href=\"https://keithgalli.github.io/web-scraping/webpage.html\">keithgalli.github.io/web-scraping/webpage.html</a></p>]"
      ]
     },
     "execution_count": 27,
     "metadata": {},
     "output_type": "execute_result"
    }
   ],
   "source": [
    "content = soup.select(\"div p\")   # select p contained in div\n",
    "content"
   ]
  },
  {
   "cell_type": "code",
   "execution_count": 28,
   "id": "fc425281",
   "metadata": {},
   "outputs": [
    {
     "data": {
      "text/plain": [
       "[<p>Link to more interesting example: <a href=\"https://keithgalli.github.io/web-scraping/webpage.html\">keithgalli.github.io/web-scraping/webpage.html</a></p>,\n",
       " <p><i>Some italicized text</i></p>,\n",
       " <p id=\"paragraph-id\"><b>Some bold text</b></p>]"
      ]
     },
     "execution_count": 28,
     "metadata": {},
     "output_type": "execute_result"
    }
   ],
   "source": [
    "content = soup.select(\"body p\")  # select p contained in body\n",
    "content"
   ]
  },
  {
   "cell_type": "code",
   "execution_count": 30,
   "id": "ccf9754f",
   "metadata": {},
   "outputs": [
    {
     "data": {
      "text/plain": [
       "[<p><i>Some italicized text</i></p>,\n",
       " <p id=\"paragraph-id\"><b>Some bold text</b></p>]"
      ]
     },
     "execution_count": 30,
     "metadata": {},
     "output_type": "execute_result"
    }
   ],
   "source": [
    "paragraphs = soup.select(\"h2 ~ p\") # Get paragraph after h2 tag\n",
    "paragraphs"
   ]
  },
  {
   "cell_type": "code",
   "execution_count": 32,
   "id": "7f7b8d41",
   "metadata": {},
   "outputs": [
    {
     "data": {
      "text/plain": [
       "[<b>Some bold text</b>]"
      ]
     },
     "execution_count": 32,
     "metadata": {},
     "output_type": "execute_result"
    }
   ],
   "source": [
    "bold_text = soup.select(\"p#paragraph-id b\")   # get b contained in: p tag with paragraph-id property\n",
    "bold_text"
   ]
  },
  {
   "cell_type": "code",
   "execution_count": 33,
   "id": "fa66567b",
   "metadata": {},
   "outputs": [
    {
     "data": {
      "text/plain": [
       "[<p><i>Some italicized text</i></p>,\n",
       " <p id=\"paragraph-id\"><b>Some bold text</b></p>]"
      ]
     },
     "execution_count": 33,
     "metadata": {},
     "output_type": "execute_result"
    }
   ],
   "source": [
    "paragraphs = soup.select(\"body > p\") # paragraphs that are direct descendants of body\n",
    "paragraphs"
   ]
  },
  {
   "cell_type": "code",
   "execution_count": 36,
   "id": "a38741a0",
   "metadata": {},
   "outputs": [
    {
     "name": "stdout",
     "output_type": "stream",
     "text": [
      "[<i>Some italicized text</i>]\n",
      "[]\n"
     ]
    }
   ],
   "source": [
    "for para in paragraphs:\n",
    "    print(para.select(\"i\"))"
   ]
  },
  {
   "cell_type": "code",
   "execution_count": 37,
   "id": "47b3bcc6",
   "metadata": {},
   "outputs": [
    {
     "data": {
      "text/plain": [
       "[<div align=\"middle\">\n",
       " <h1>HTML Webpage</h1>\n",
       " <p>Link to more interesting example: <a href=\"https://keithgalli.github.io/web-scraping/webpage.html\">keithgalli.github.io/web-scraping/webpage.html</a></p>\n",
       " </div>]"
      ]
     },
     "execution_count": 37,
     "metadata": {},
     "output_type": "execute_result"
    }
   ],
   "source": [
    "# Grab by element with specific property\n",
    "soup.select(\"[align = middle]\")"
   ]
  },
  {
   "cell_type": "markdown",
   "id": "a201a8e1",
   "metadata": {},
   "source": [
    "### Get different properties of the HTML"
   ]
  },
  {
   "cell_type": "code",
   "execution_count": 38,
   "id": "16f81f61",
   "metadata": {},
   "outputs": [
    {
     "data": {
      "text/plain": [
       "<h2>A Header</h2>"
      ]
     },
     "execution_count": 38,
     "metadata": {},
     "output_type": "execute_result"
    }
   ],
   "source": [
    "header = soup.find(\"h2\")\n",
    "header"
   ]
  },
  {
   "cell_type": "code",
   "execution_count": 39,
   "id": "cab88039",
   "metadata": {},
   "outputs": [
    {
     "data": {
      "text/plain": [
       "'A Header'"
      ]
     },
     "execution_count": 39,
     "metadata": {},
     "output_type": "execute_result"
    }
   ],
   "source": [
    "header.string"
   ]
  },
  {
   "cell_type": "code",
   "execution_count": 40,
   "id": "1d00d031",
   "metadata": {},
   "outputs": [
    {
     "data": {
      "text/plain": [
       "'A Header'"
      ]
     },
     "execution_count": 40,
     "metadata": {},
     "output_type": "execute_result"
    }
   ],
   "source": [
    "header.text"
   ]
  },
  {
   "cell_type": "code",
   "execution_count": 41,
   "id": "321d7bf1",
   "metadata": {},
   "outputs": [
    {
     "data": {
      "text/plain": [
       "<bound method PageElement.get_text of <h2>A Header</h2>>"
      ]
     },
     "execution_count": 41,
     "metadata": {},
     "output_type": "execute_result"
    }
   ],
   "source": [
    "header.get_text"
   ]
  },
  {
   "cell_type": "code",
   "execution_count": 43,
   "id": "74ee6f76",
   "metadata": {},
   "outputs": [
    {
     "name": "stdout",
     "output_type": "stream",
     "text": [
      "<div align=\"middle\">\n",
      " <h1>\n",
      "  HTML Webpage\n",
      " </h1>\n",
      " <p>\n",
      "  Link to more interesting example:\n",
      "  <a href=\"https://keithgalli.github.io/web-scraping/webpage.html\">\n",
      "   keithgalli.github.io/web-scraping/webpage.html\n",
      "  </a>\n",
      " </p>\n",
      "</div>\n",
      "\n",
      "\n",
      "HTML Webpage\n",
      "Link to more interesting example: keithgalli.github.io/web-scraping/webpage.html\n",
      "\n"
     ]
    }
   ],
   "source": [
    "# If multiple chield elements presen, then use get_text\n",
    "\n",
    "div = soup.find(\"div\")\n",
    "print(div.prettify())\n",
    "print(div.get_text())"
   ]
  },
  {
   "cell_type": "code",
   "execution_count": 46,
   "id": "24c7d01c",
   "metadata": {},
   "outputs": [
    {
     "name": "stdout",
     "output_type": "stream",
     "text": [
      "<a href=\"https://keithgalli.github.io/web-scraping/webpage.html\">keithgalli.github.io/web-scraping/webpage.html</a>\n",
      "https://keithgalli.github.io/web-scraping/webpage.html\n"
     ]
    }
   ],
   "source": [
    "# Get a specific property from an element\n",
    "\n",
    "link = soup.find(\"a\")\n",
    "print(link)\n",
    "print(link['href'])"
   ]
  },
  {
   "cell_type": "code",
   "execution_count": 50,
   "id": "8ad94139",
   "metadata": {},
   "outputs": [
    {
     "name": "stdout",
     "output_type": "stream",
     "text": [
      "<p id=\"paragraph-id\"><b>Some bold text</b></p>\n",
      "\n",
      "paragraph-id\n"
     ]
    }
   ],
   "source": [
    "paragraphs = soup.select(\"p#paragraph-id\")\n",
    "print(paragraphs[0])\n",
    "print()\n",
    "print(paragraphs[0]['id'])"
   ]
  },
  {
   "cell_type": "code",
   "execution_count": 53,
   "id": "1ad2fd9c",
   "metadata": {},
   "outputs": [
    {
     "data": {
      "text/plain": [
       "'HTML Webpage'"
      ]
     },
     "execution_count": 53,
     "metadata": {},
     "output_type": "execute_result"
    }
   ],
   "source": [
    "## Path syntax\n",
    "\n",
    "soup.body.div.h1.string"
   ]
  },
  {
   "cell_type": "code",
   "execution_count": 52,
   "id": "0663dd64",
   "metadata": {},
   "outputs": [
    {
     "data": {
      "text/plain": [
       "'HTML Webpage'"
      ]
     },
     "execution_count": 52,
     "metadata": {},
     "output_type": "execute_result"
    }
   ],
   "source": [
    "soup.body.div.h1.text"
   ]
  },
  {
   "cell_type": "code",
   "execution_count": 54,
   "id": "44471c1b",
   "metadata": {},
   "outputs": [
    {
     "data": {
      "text/plain": [
       "<div align=\"middle\">\n",
       "<h1>HTML Webpage</h1>\n",
       "<p>Link to more interesting example: <a href=\"https://keithgalli.github.io/web-scraping/webpage.html\">keithgalli.github.io/web-scraping/webpage.html</a></p>\n",
       "</div>"
      ]
     },
     "execution_count": 54,
     "metadata": {},
     "output_type": "execute_result"
    }
   ],
   "source": [
    "# Know the terms: Parent, Sibling, Child\n",
    "## https://beautiful-soup-4.readthedocs.io/en/latest/#find-next-siblings-and-find-next-sibling\n",
    "soup.body.find(\"div\")"
   ]
  },
  {
   "cell_type": "code",
   "execution_count": 55,
   "id": "48860086",
   "metadata": {},
   "outputs": [
    {
     "data": {
      "text/plain": [
       "[<h2>A Header</h2>,\n",
       " <p><i>Some italicized text</i></p>,\n",
       " <h2>Another header</h2>,\n",
       " <p id=\"paragraph-id\"><b>Some bold text</b></p>]"
      ]
     },
     "execution_count": 55,
     "metadata": {},
     "output_type": "execute_result"
    }
   ],
   "source": [
    "soup.body.find(\"div\").find_next_siblings()"
   ]
  },
  {
   "cell_type": "markdown",
   "id": "0ffbcebf",
   "metadata": {},
   "source": [
    "## Exercises\n",
    "\n",
    "https://keithgalli.github.io/web-scraping/webpage.html"
   ]
  },
  {
   "cell_type": "code",
   "execution_count": 56,
   "id": "1e3ac5c8",
   "metadata": {},
   "outputs": [
    {
     "name": "stdout",
     "output_type": "stream",
     "text": [
      "<html>\n",
      " <head>\n",
      "  <title>\n",
      "   Keith Galli's Page\n",
      "  </title>\n",
      "  <style>\n",
      "   table {\n",
      "    border-collapse: collapse;\n",
      "  }\n",
      "  th {\n",
      "    padding:5px;\n",
      "  }\n",
      "  td {\n",
      "    border: 1px solid #ddd;\n",
      "    padding: 5px;\n",
      "  }\n",
      "  tr:nth-child(even) {\n",
      "    background-color: #f2f2f2;\n",
      "  }\n",
      "  th {\n",
      "    padding-top: 12px;\n",
      "    padding-bottom: 12px;\n",
      "    text-align: left;\n",
      "    background-color: #add8e6;\n",
      "    color: black;\n",
      "  }\n",
      "  .block {\n",
      "  width: 100px;\n",
      "  /*float: left;*/\n",
      "    display: inline-block;\n",
      "    zoom: 1;\n",
      "  }\n",
      "  .column {\n",
      "  float: left;\n",
      "  height: 200px;\n",
      "  /*width: 33.33%;*/\n",
      "  padding: 5px;\n",
      "  }\n",
      "\n",
      "  .row::after {\n",
      "    content: \"\";\n",
      "    clear: both;\n",
      "    display: table;\n",
      "  }\n",
      "  </style>\n",
      " </head>\n",
      " <body>\n",
      "  <h1>\n",
      "   Welcome to my page!\n",
      "  </h1>\n",
      "  <img src=\"./images/selfie1.jpg\" width=\"300px\"/>\n",
      "  <h2>\n",
      "   About me\n",
      "  </h2>\n",
      "  <p>\n",
      "   Hi, my name is Keith and I am a YouTuber who focuses on content related to programming, data science, and machine learning!\n",
      "  </p>\n",
      "  <p>\n",
      "   Here is a link to my channel:\n",
      "   <a href=\"https://www.youtube.com/kgmit\">\n",
      "    youtube.com/kgmit\n",
      "   </a>\n",
      "  </p>\n",
      "  <p>\n",
      "   I grew up in the great state of New Hampshire here in the USA. From an early age I always loved math. Around my senior year of high school, my brother first introduced me to programming. I found it a creative way to apply the same type of logical thinking skills that I enjoyed with math. This influenced me to study computer science in college and ultimately create a YouTube channel to share some things that I have learned along the way.\n",
      "  </p>\n",
      "  <h3>\n",
      "   Hobbies\n",
      "  </h3>\n",
      "  <p>\n",
      "   Believe it or not, I don't code 24/7. I love doing all sorts of active things. I like to play ice hockey &amp; table tennis as well as run, hike, skateboard, and snowboard. In addition to sports, I am a board game enthusiast. The two that I've been playing the most recently are\n",
      "   <i>\n",
      "    Settlers of Catan\n",
      "   </i>\n",
      "   and\n",
      "   <i>\n",
      "    Othello\n",
      "   </i>\n",
      "   .\n",
      "  </p>\n",
      "  <h3>\n",
      "   Fun Facts\n",
      "  </h3>\n",
      "  <ul class=\"fun-facts\">\n",
      "   <li>\n",
      "    Owned my dream car in high school\n",
      "    <a href=\"#footer\">\n",
      "     <sup>\n",
      "      1\n",
      "     </sup>\n",
      "    </a>\n",
      "   </li>\n",
      "   <li>\n",
      "    Middle name is Ronald\n",
      "   </li>\n",
      "   <li>\n",
      "    Never had been on a plane until college\n",
      "   </li>\n",
      "   <li>\n",
      "    Dunkin Donuts coffee is better than Starbucks\n",
      "   </li>\n",
      "   <li>\n",
      "    A favorite book series of mine is\n",
      "    <i>\n",
      "     Ender's Game\n",
      "    </i>\n",
      "   </li>\n",
      "   <li>\n",
      "    Current video game of choice is\n",
      "    <i>\n",
      "     Rocket League\n",
      "    </i>\n",
      "   </li>\n",
      "   <li>\n",
      "    The band that I've seen the most times live is the\n",
      "    <i>\n",
      "     Zac Brown Band\n",
      "    </i>\n",
      "   </li>\n",
      "  </ul>\n",
      "  <h2>\n",
      "   Social Media\n",
      "  </h2>\n",
      "  I encourage you to check out my content on all social media platforms\n",
      "  <br/>\n",
      "  <ul class=\"socials\">\n",
      "   <li class=\"social instagram\">\n",
      "    <b>\n",
      "     Instagram:\n",
      "    </b>\n",
      "    <a href=\"https://www.instagram.com/keithgalli/\">\n",
      "     https://www.instagram.com/keithgalli/\n",
      "    </a>\n",
      "   </li>\n",
      "   <li class=\"social twitter\">\n",
      "    <b>\n",
      "     Twitter:\n",
      "    </b>\n",
      "    <a href=\"https://twitter.com/keithgalli\">\n",
      "     https://twitter.com/keithgalli\n",
      "    </a>\n",
      "   </li>\n",
      "   <li class=\"social linkedin\">\n",
      "    <b>\n",
      "     LinkedIn:\n",
      "    </b>\n",
      "    <a href=\"https://www.linkedin.com/in/keithgalli/\">\n",
      "     https://www.linkedin.com/in/keithgalli/\n",
      "    </a>\n",
      "   </li>\n",
      "   <li class=\"social tiktok\">\n",
      "    <b>\n",
      "     TikTok:\n",
      "    </b>\n",
      "    <a href=\"https://www.tiktok.com/@keithgalli\">\n",
      "     https://www.tiktok.com/@keithgalli\n",
      "    </a>\n",
      "   </li>\n",
      "  </ul>\n",
      "  <h2>\n",
      "   Photos\n",
      "  </h2>\n",
      "  Here are a few photos from a trip to italy I took last year\n",
      "  <div class=\"row\">\n",
      "   <div class=\"column\">\n",
      "    <img alt=\"Lake Como\" src=\"images/italy/lake_como.jpg\" style=\"height:100%\"/>\n",
      "   </div>\n",
      "   <div class=\"column\">\n",
      "    <img alt=\"Pontevecchio, Florence\" src=\"images/italy/pontevecchio.jpg\" style=\"height:100%\"/>\n",
      "   </div>\n",
      "   <div class=\"column\">\n",
      "    <img alt=\"Riomaggiore, Cinque de Terre\" src=\"images/italy/riomaggiore.jpg\" style=\"height:100%\"/>\n",
      "   </div>\n",
      "  </div>\n",
      "  <div>\n",
      "  </div>\n",
      "  <h2>\n",
      "   Table\n",
      "  </h2>\n",
      "  My MIT hockey stats :)\n",
      "  <br/>\n",
      "  <table class=\"hockey-stats\">\n",
      "   <thead>\n",
      "    <tr>\n",
      "     <th class=\"season\" data-sort=\"\">\n",
      "      S\n",
      "     </th>\n",
      "     <th class=\"team\" data-sort=\"team\">\n",
      "      Team\n",
      "     </th>\n",
      "     <th class=\"league\" data-sort=\"league\">\n",
      "      League\n",
      "     </th>\n",
      "     <th class=\"regular gp\" data-sort=\"gp\">\n",
      "      GP\n",
      "     </th>\n",
      "     <th class=\"regular g\" data-sort=\"g\">\n",
      "      G\n",
      "     </th>\n",
      "     <th class=\"regular a\" data-sort=\"a\">\n",
      "      A\n",
      "     </th>\n",
      "     <th class=\"regular tp\" data-sort=\"tp\">\n",
      "      TP\n",
      "     </th>\n",
      "     <th class=\"regular pim\" data-sort=\"pim\">\n",
      "      PIM\n",
      "     </th>\n",
      "     <th class=\"regular pm\" data-sort=\"pm\">\n",
      "      +/-\n",
      "     </th>\n",
      "     <th class=\"separator\">\n",
      "     </th>\n",
      "     <th class=\"postseason\">\n",
      "      POST\n",
      "     </th>\n",
      "     <th class=\"postseason gp\" data-sort=\"playoffs-gp\">\n",
      "      GP\n",
      "     </th>\n",
      "     <th class=\"postseason g\" data-sort=\"playoffs-g\">\n",
      "      G\n",
      "     </th>\n",
      "     <th class=\"postseason a\" data-sort=\"playoffs-a\">\n",
      "      A\n",
      "     </th>\n",
      "     <th class=\"postseason tp\" data-sort=\"playoffs-tp\">\n",
      "      TP\n",
      "     </th>\n",
      "     <th class=\"postseason pim\" data-sort=\"playoffs-pim\">\n",
      "      PIM\n",
      "     </th>\n",
      "     <th class=\"postseason pm\" data-sort=\"playoffs-pm\">\n",
      "      +/-\n",
      "     </th>\n",
      "    </tr>\n",
      "   </thead>\n",
      "   <tbody>\n",
      "    <tr class=\"team-continent-NA\">\n",
      "     <td class=\"season sorted\">\n",
      "      2014-15\n",
      "     </td>\n",
      "     <td class=\"team\">\n",
      "      <i>\n",
      "       <img src=\"images/flag.png\"/>\n",
      "      </i>\n",
      "      <span class=\"txt-blue\">\n",
      "       <a href=\"https://www.eliteprospects.com/team/10263/mit-mass.-inst.-of-tech./2014-2015?tab=stats\">\n",
      "        MIT (Mass. Inst. of Tech.)\n",
      "       </a>\n",
      "      </span>\n",
      "     </td>\n",
      "     <td class=\"league\">\n",
      "      <a href=\"https://www.eliteprospects.com/league/acha-ii/stats/2014-2015\">\n",
      "       ACHA II\n",
      "      </a>\n",
      "     </td>\n",
      "     <td class=\"regular gp\">\n",
      "      17\n",
      "     </td>\n",
      "     <td class=\"regular g\">\n",
      "      3\n",
      "     </td>\n",
      "     <td class=\"regular a\">\n",
      "      9\n",
      "     </td>\n",
      "     <td class=\"regular tp\">\n",
      "      12\n",
      "     </td>\n",
      "     <td class=\"regular pim\">\n",
      "      20\n",
      "     </td>\n",
      "     <td class=\"regular pm\">\n",
      "     </td>\n",
      "     <td class=\"separator\">\n",
      "      |\n",
      "     </td>\n",
      "     <td class=\"postseason\">\n",
      "      <a href=\"https://www.eliteprospects.com/league/acha-ii/stats/2014-2015\">\n",
      "      </a>\n",
      "     </td>\n",
      "     <td class=\"postseason gp\">\n",
      "     </td>\n",
      "     <td class=\"postseason g\">\n",
      "     </td>\n",
      "     <td class=\"postseason a\">\n",
      "     </td>\n",
      "     <td class=\"postseason tp\">\n",
      "     </td>\n",
      "     <td class=\"postseason pim\">\n",
      "     </td>\n",
      "     <td class=\"postseason pm\">\n",
      "     </td>\n",
      "    </tr>\n",
      "    <tr class=\"team-continent-NA\">\n",
      "     <td class=\"season sorted\">\n",
      "      2015-16\n",
      "     </td>\n",
      "     <td class=\"team\">\n",
      "      <i>\n",
      "       <img src=\"images/flag.png\"/>\n",
      "      </i>\n",
      "      <span class=\"txt-blue\">\n",
      "       <a href=\"https://www.eliteprospects.com/team/10263/mit-mass.-inst.-of-tech./2015-2016?tab=stats\">\n",
      "        MIT (Mass. Inst. of Tech.)\n",
      "       </a>\n",
      "      </span>\n",
      "     </td>\n",
      "     <td class=\"league\">\n",
      "      <a href=\"https://www.eliteprospects.com/league/acha-ii/stats/2015-2016\">\n",
      "       ACHA II\n",
      "      </a>\n",
      "     </td>\n",
      "     <td class=\"regular gp\">\n",
      "      9\n",
      "     </td>\n",
      "     <td class=\"regular g\">\n",
      "      1\n",
      "     </td>\n",
      "     <td class=\"regular a\">\n",
      "      1\n",
      "     </td>\n",
      "     <td class=\"regular tp\">\n",
      "      2\n",
      "     </td>\n",
      "     <td class=\"regular pim\">\n",
      "      2\n",
      "     </td>\n",
      "     <td class=\"regular pm\">\n",
      "     </td>\n",
      "     <td class=\"separator\">\n",
      "      |\n",
      "     </td>\n",
      "     <td class=\"postseason\">\n",
      "      <a href=\"https://www.eliteprospects.com/league/acha-ii/stats/2015-2016\">\n",
      "      </a>\n",
      "     </td>\n",
      "     <td class=\"postseason gp\">\n",
      "     </td>\n",
      "     <td class=\"postseason g\">\n",
      "     </td>\n",
      "     <td class=\"postseason a\">\n",
      "     </td>\n",
      "     <td class=\"postseason tp\">\n",
      "     </td>\n",
      "     <td class=\"postseason pim\">\n",
      "     </td>\n",
      "     <td class=\"postseason pm\">\n",
      "     </td>\n",
      "    </tr>\n",
      "    <tr class=\"team-continent-NA\">\n",
      "     <td class=\"season sorted\">\n",
      "      2016-17\n",
      "     </td>\n",
      "     <td class=\"team\">\n",
      "      <i>\n",
      "       <img src=\"images/flag.png\"/>\n",
      "      </i>\n",
      "      <span class=\"txt-blue\">\n",
      "       <a href=\"https://www.eliteprospects.com/team/10263/mit-mass.-inst.-of-tech./2016-2017?tab=stats\">\n",
      "        MIT (Mass. Inst. of Tech.)\n",
      "       </a>\n",
      "      </span>\n",
      "     </td>\n",
      "     <td class=\"league\">\n",
      "      <a href=\"https://www.eliteprospects.com/league/acha-ii/stats/2016-2017\">\n",
      "       ACHA II\n",
      "      </a>\n",
      "     </td>\n",
      "     <td class=\"regular gp\">\n",
      "      12\n",
      "     </td>\n",
      "     <td class=\"regular g\">\n",
      "      5\n",
      "     </td>\n",
      "     <td class=\"regular a\">\n",
      "      5\n",
      "     </td>\n",
      "     <td class=\"regular tp\">\n",
      "      10\n",
      "     </td>\n",
      "     <td class=\"regular pim\">\n",
      "      8\n",
      "     </td>\n",
      "     <td class=\"regular pm\">\n",
      "      0\n",
      "     </td>\n",
      "     <td class=\"separator\">\n",
      "      |\n",
      "     </td>\n",
      "     <td class=\"postseason\">\n",
      "     </td>\n",
      "     <td class=\"postseason gp\">\n",
      "     </td>\n",
      "     <td class=\"postseason g\">\n",
      "     </td>\n",
      "     <td class=\"postseason a\">\n",
      "     </td>\n",
      "     <td class=\"postseason tp\">\n",
      "     </td>\n",
      "     <td class=\"postseason pim\">\n",
      "     </td>\n",
      "     <td class=\"postseason pm\">\n",
      "     </td>\n",
      "    </tr>\n",
      "    <tr class=\"team-continent-EU\">\n",
      "     <td class=\"season sorted\">\n",
      "      2017-18\n",
      "     </td>\n",
      "     <td class=\"team\">\n",
      "      Did not play\n",
      "     </td>\n",
      "     <td class=\"league\">\n",
      "      <a href=\"https://www.eliteprospects.com/stats\">\n",
      "      </a>\n",
      "     </td>\n",
      "     <td class=\"regular gp\">\n",
      "     </td>\n",
      "     <td class=\"regular g\">\n",
      "     </td>\n",
      "     <td class=\"regular a\">\n",
      "     </td>\n",
      "     <td class=\"regular tp\">\n",
      "     </td>\n",
      "     <td class=\"regular pim\">\n",
      "     </td>\n",
      "     <td class=\"regular pm\">\n",
      "     </td>\n",
      "     <td class=\"separator\">\n",
      "      |\n",
      "     </td>\n",
      "     <td class=\"postseason\">\n",
      "      <a href=\"https://www.eliteprospects.com/stats\">\n",
      "      </a>\n",
      "     </td>\n",
      "     <td class=\"postseason gp\">\n",
      "     </td>\n",
      "     <td class=\"postseason g\">\n",
      "     </td>\n",
      "     <td class=\"postseason a\">\n",
      "     </td>\n",
      "     <td class=\"postseason tp\">\n",
      "     </td>\n",
      "     <td class=\"postseason pim\">\n",
      "     </td>\n",
      "     <td class=\"postseason pm\">\n",
      "     </td>\n",
      "    </tr>\n",
      "    <tr class=\"team-continent-NA\">\n",
      "     <td class=\"season sorted\">\n",
      "      2018-19\n",
      "     </td>\n",
      "     <td class=\"team\">\n",
      "      <i>\n",
      "       <img src=\"images/flag.png\"/>\n",
      "      </i>\n",
      "      <span class=\"txt-blue\">\n",
      "       <a href=\"https://www.eliteprospects.com/team/10263/mit-mass.-inst.-of-tech./2018-2019?tab=stats\">\n",
      "        MIT (Mass. Inst. of Tech.)\n",
      "       </a>\n",
      "      </span>\n",
      "     </td>\n",
      "     <td class=\"league\">\n",
      "      <a href=\"https://www.eliteprospects.com/league/acha-iii/stats/2018-2019\">\n",
      "       ACHA III\n",
      "      </a>\n",
      "     </td>\n",
      "     <td class=\"regular gp\">\n",
      "      8\n",
      "     </td>\n",
      "     <td class=\"regular g\">\n",
      "      5\n",
      "     </td>\n",
      "     <td class=\"regular a\">\n",
      "      10\n",
      "     </td>\n",
      "     <td class=\"regular tp\">\n",
      "      15\n",
      "     </td>\n",
      "     <td class=\"regular pim\">\n",
      "      8\n",
      "     </td>\n",
      "     <td class=\"regular pm\">\n",
      "     </td>\n",
      "     <td class=\"separator\">\n",
      "      |\n",
      "     </td>\n",
      "     <td class=\"postseason\">\n",
      "      <a href=\"https://www.eliteprospects.com/league/acha-iii/stats/2018-2019\">\n",
      "      </a>\n",
      "     </td>\n",
      "     <td class=\"postseason gp\">\n",
      "     </td>\n",
      "     <td class=\"postseason g\">\n",
      "     </td>\n",
      "     <td class=\"postseason a\">\n",
      "     </td>\n",
      "     <td class=\"postseason tp\">\n",
      "     </td>\n",
      "     <td class=\"postseason pim\">\n",
      "     </td>\n",
      "     <td class=\"postseason pm\">\n",
      "     </td>\n",
      "    </tr>\n",
      "   </tbody>\n",
      "  </table>\n",
      "  <h2>\n",
      "   Mystery Message Challenge!\n",
      "  </h2>\n",
      "  <p>\n",
      "   If you scrape the links below grabbing the &lt;p&gt; tag with id=\"secret-word\", you'll discover a secret message :)\n",
      "  </p>\n",
      "  <div width=\"50%\">\n",
      "   <div align=\"left\" class=\"block\">\n",
      "    <ul>\n",
      "     <li>\n",
      "      <a href=\"challenge/file_1.html\">\n",
      "       File 1\n",
      "      </a>\n",
      "     </li>\n",
      "     <li>\n",
      "      <a href=\"challenge/file_2.html\">\n",
      "       File 2\n",
      "      </a>\n",
      "     </li>\n",
      "     <li>\n",
      "      <a href=\"challenge/file_3.html\">\n",
      "       File 3\n",
      "      </a>\n",
      "     </li>\n",
      "     <li>\n",
      "      <a href=\"challenge/file_4.html\">\n",
      "       File 4\n",
      "      </a>\n",
      "     </li>\n",
      "     <li>\n",
      "      <a href=\"challenge/file_5.html\">\n",
      "       File 5\n",
      "      </a>\n",
      "     </li>\n",
      "    </ul>\n",
      "   </div>\n",
      "   <div align=\"center\" class=\"block\">\n",
      "    <ul>\n",
      "     <li>\n",
      "      <a href=\"challenge/file_6.html\">\n",
      "       File 6\n",
      "      </a>\n",
      "     </li>\n",
      "     <li>\n",
      "      <a href=\"challenge/file_7.html\">\n",
      "       File 7\n",
      "      </a>\n",
      "     </li>\n",
      "     <li>\n",
      "      <a href=\"challenge/file_8.html\">\n",
      "       File 8\n",
      "      </a>\n",
      "     </li>\n",
      "     <li>\n",
      "      <a href=\"challenge/file_9.html\">\n",
      "       File 9\n",
      "      </a>\n",
      "     </li>\n",
      "     <li>\n",
      "      <a href=\"challenge/file_10.html\">\n",
      "       File 10\n",
      "      </a>\n",
      "     </li>\n",
      "    </ul>\n",
      "   </div>\n",
      "  </div>\n",
      "  <h2>\n",
      "   Footnotes\n",
      "  </h2>\n",
      "  <p id=\"footer\">\n",
      "   1. This was actually a minivan that I named Debora. Maybe not my dream car, but I loved her nonetheless.\n",
      "  </p>\n",
      " </body>\n",
      "</html>\n"
     ]
    }
   ],
   "source": [
    "# Load the webpage content\n",
    "r = requests.get(\"https://keithgalli.github.io/web-scraping/webpage.html\")\n",
    "\n",
    "# Convert to a beautiful soup object\n",
    "webpage = bs(r.content)\n",
    "\n",
    "# Print out our html\n",
    "print(webpage.prettify())"
   ]
  },
  {
   "cell_type": "markdown",
   "id": "62349169",
   "metadata": {},
   "source": [
    "### Exercise #1: Grab all of the social links from the webpage"
   ]
  },
  {
   "cell_type": "code",
   "execution_count": 57,
   "id": "d328c6e4",
   "metadata": {},
   "outputs": [
    {
     "data": {
      "text/plain": [
       "['https://www.instagram.com/keithgalli/',\n",
       " 'https://twitter.com/keithgalli',\n",
       " 'https://www.linkedin.com/in/keithgalli/',\n",
       " 'https://www.tiktok.com/@keithgalli']"
      ]
     },
     "execution_count": 57,
     "metadata": {},
     "output_type": "execute_result"
    }
   ],
   "source": [
    "links = webpage.select(\"ul.socials a\")\n",
    "actual_links = [link['href'] for link in links]\n",
    "actual_links"
   ]
  },
  {
   "cell_type": "code",
   "execution_count": 58,
   "id": "b3e60535",
   "metadata": {},
   "outputs": [
    {
     "data": {
      "text/plain": [
       "['https://www.instagram.com/keithgalli/',\n",
       " 'https://twitter.com/keithgalli',\n",
       " 'https://www.linkedin.com/in/keithgalli/',\n",
       " 'https://www.tiktok.com/@keithgalli']"
      ]
     },
     "execution_count": 58,
     "metadata": {},
     "output_type": "execute_result"
    }
   ],
   "source": [
    "ulist = webpage.find(\"ul\", attrs={\"class\": \"socials\"})\n",
    "links = ulist.find_all(\"a\")\n",
    "actual_links = [link['href'] for link in links]\n",
    "actual_links"
   ]
  },
  {
   "cell_type": "code",
   "execution_count": 59,
   "id": "94f352d5",
   "metadata": {},
   "outputs": [
    {
     "data": {
      "text/plain": [
       "['https://www.instagram.com/keithgalli/',\n",
       " 'https://twitter.com/keithgalli',\n",
       " 'https://www.linkedin.com/in/keithgalli/',\n",
       " 'https://www.tiktok.com/@keithgalli']"
      ]
     },
     "execution_count": 59,
     "metadata": {},
     "output_type": "execute_result"
    }
   ],
   "source": [
    "links = webpage.select(\"li.social a\")\n",
    "actual_links = [link['href'] for link in links]\n",
    "actual_links"
   ]
  },
  {
   "cell_type": "code",
   "execution_count": 60,
   "id": "f843f133",
   "metadata": {},
   "outputs": [
    {
     "data": {
      "text/plain": [
       "[<a href=\"https://www.instagram.com/keithgalli/\">https://www.instagram.com/keithgalli/</a>,\n",
       " <a href=\"https://twitter.com/keithgalli\">https://twitter.com/keithgalli</a>,\n",
       " <a href=\"https://www.linkedin.com/in/keithgalli/\">https://www.linkedin.com/in/keithgalli/</a>,\n",
       " <a href=\"https://www.tiktok.com/@keithgalli\">https://www.tiktok.com/@keithgalli</a>]"
      ]
     },
     "execution_count": 60,
     "metadata": {},
     "output_type": "execute_result"
    }
   ],
   "source": [
    "links = webpage.select(\"body ul li.social a\")\n",
    "links"
   ]
  },
  {
   "cell_type": "code",
   "execution_count": 61,
   "id": "67a511b4",
   "metadata": {},
   "outputs": [
    {
     "data": {
      "text/plain": [
       "[<a href=\"https://www.instagram.com/keithgalli/\">https://www.instagram.com/keithgalli/</a>,\n",
       " <a href=\"https://twitter.com/keithgalli\">https://twitter.com/keithgalli</a>,\n",
       " <a href=\"https://www.linkedin.com/in/keithgalli/\">https://www.linkedin.com/in/keithgalli/</a>,\n",
       " <a href=\"https://www.tiktok.com/@keithgalli\">https://www.tiktok.com/@keithgalli</a>]"
      ]
     },
     "execution_count": 61,
     "metadata": {},
     "output_type": "execute_result"
    }
   ],
   "source": [
    "links = webpage.select(\"li.social a\")\n",
    "links"
   ]
  },
  {
   "cell_type": "markdown",
   "id": "be304fa2",
   "metadata": {},
   "source": [
    "### Exercise #2: Grab all text on the webpage"
   ]
  },
  {
   "cell_type": "code",
   "execution_count": 63,
   "id": "f0f6539b",
   "metadata": {},
   "outputs": [
    {
     "name": "stdout",
     "output_type": "stream",
     "text": [
      "Welcome to my page!\n",
      "\n",
      "About me\n",
      "Hi, my name is Keith and I am a YouTuber who focuses on content related to programming, data science, and machine learning!\n",
      "Here is a link to my channel: youtube.com/kgmit\n",
      "I grew up in the great state of New Hampshire here in the USA. From an early age I always loved math. Around my senior year of high school, my brother first introduced me to programming. I found it a creative way to apply the same type of logical thinking skills that I enjoyed with math. This influenced me to study computer science in college and ultimately create a YouTube channel to share some things that I have learned along the way.\n",
      "Hobbies\n",
      "Believe it or not, I don't code 24/7. I love doing all sorts of active things. I like to play ice hockey & table tennis as well as run, hike, skateboard, and snowboard. In addition to sports, I am a board game enthusiast. The two that I've been playing the most recently are Settlers of Catan and Othello.\n",
      "Fun Facts\n",
      "\n",
      "Owned my dream car in high school 1\n",
      "Middle name is Ronald\n",
      "Never had been on a plane until college\n",
      "Dunkin Donuts coffee is better than Starbucks\n",
      "A favorite book series of mine is Ender's Game\n",
      "Current video game of choice is Rocket League\n",
      "The band that I've seen the most times live is the Zac Brown Band\n",
      "\n",
      "Social Media\n",
      "\n",
      "\n",
      "Instagram: https://www.instagram.com/keithgalli/\n",
      "Twitter: https://twitter.com/keithgalli\n",
      "LinkedIn: https://www.linkedin.com/in/keithgalli/\n",
      "TikTok: https://www.tiktok.com/@keithgalli\n",
      "\n"
     ]
    }
   ],
   "source": [
    "# Just get stuff above the Photos tag\n",
    "\n",
    "\n",
    "header = webpage.body.find(\"h2\", string=\"Photos\")\n",
    "previous_elements = header.find_previous_siblings()\n",
    "previous_elements_sorted = previous_elements[::-1]\n",
    "elements = [x.get_text() for x in previous_elements_sorted]\n",
    "text = \"\\n\".join(elements)\n",
    "print(text)"
   ]
  },
  {
   "cell_type": "code",
   "execution_count": null,
   "id": "0c63e2e3",
   "metadata": {},
   "outputs": [],
   "source": []
  },
  {
   "cell_type": "code",
   "execution_count": null,
   "id": "9c9e7a7d",
   "metadata": {},
   "outputs": [],
   "source": []
  },
  {
   "cell_type": "code",
   "execution_count": null,
   "id": "26a2693e",
   "metadata": {},
   "outputs": [],
   "source": []
  },
  {
   "cell_type": "code",
   "execution_count": null,
   "id": "4c480701",
   "metadata": {},
   "outputs": [],
   "source": []
  },
  {
   "cell_type": "code",
   "execution_count": null,
   "id": "3dc7d54d",
   "metadata": {},
   "outputs": [],
   "source": []
  },
  {
   "cell_type": "code",
   "execution_count": null,
   "id": "0f92c030",
   "metadata": {},
   "outputs": [],
   "source": []
  },
  {
   "cell_type": "code",
   "execution_count": null,
   "id": "291dff01",
   "metadata": {},
   "outputs": [],
   "source": []
  },
  {
   "cell_type": "code",
   "execution_count": null,
   "id": "091ab98a",
   "metadata": {},
   "outputs": [],
   "source": []
  },
  {
   "cell_type": "code",
   "execution_count": null,
   "id": "09f7ea2c",
   "metadata": {},
   "outputs": [],
   "source": []
  },
  {
   "cell_type": "code",
   "execution_count": null,
   "id": "baf5e80c",
   "metadata": {},
   "outputs": [],
   "source": []
  },
  {
   "cell_type": "code",
   "execution_count": null,
   "id": "c79c5e62",
   "metadata": {},
   "outputs": [],
   "source": []
  },
  {
   "cell_type": "code",
   "execution_count": null,
   "id": "db4b5106",
   "metadata": {},
   "outputs": [],
   "source": []
  },
  {
   "cell_type": "code",
   "execution_count": null,
   "id": "23e30be2",
   "metadata": {},
   "outputs": [],
   "source": []
  },
  {
   "cell_type": "code",
   "execution_count": null,
   "id": "9fc03f0f",
   "metadata": {},
   "outputs": [],
   "source": []
  },
  {
   "cell_type": "code",
   "execution_count": null,
   "id": "d3d0baeb",
   "metadata": {},
   "outputs": [],
   "source": []
  },
  {
   "cell_type": "code",
   "execution_count": null,
   "id": "0e99575b",
   "metadata": {},
   "outputs": [],
   "source": []
  },
  {
   "cell_type": "code",
   "execution_count": null,
   "id": "13ee36d6",
   "metadata": {},
   "outputs": [],
   "source": []
  },
  {
   "cell_type": "code",
   "execution_count": null,
   "id": "f04af504",
   "metadata": {},
   "outputs": [],
   "source": []
  },
  {
   "cell_type": "code",
   "execution_count": null,
   "id": "2d16397b",
   "metadata": {},
   "outputs": [],
   "source": []
  },
  {
   "cell_type": "code",
   "execution_count": null,
   "id": "a8023dcb",
   "metadata": {},
   "outputs": [],
   "source": []
  },
  {
   "cell_type": "code",
   "execution_count": null,
   "id": "0a53b4cb",
   "metadata": {},
   "outputs": [],
   "source": []
  },
  {
   "cell_type": "code",
   "execution_count": null,
   "id": "fe687199",
   "metadata": {},
   "outputs": [],
   "source": []
  },
  {
   "cell_type": "code",
   "execution_count": null,
   "id": "693f768f",
   "metadata": {},
   "outputs": [],
   "source": []
  },
  {
   "cell_type": "code",
   "execution_count": null,
   "id": "9c22cf61",
   "metadata": {},
   "outputs": [],
   "source": []
  },
  {
   "cell_type": "code",
   "execution_count": null,
   "id": "58378fc1",
   "metadata": {},
   "outputs": [],
   "source": []
  },
  {
   "cell_type": "code",
   "execution_count": null,
   "id": "c479cf36",
   "metadata": {},
   "outputs": [],
   "source": []
  },
  {
   "cell_type": "code",
   "execution_count": null,
   "id": "bea0349f",
   "metadata": {},
   "outputs": [],
   "source": []
  },
  {
   "cell_type": "code",
   "execution_count": null,
   "id": "2b575e57",
   "metadata": {},
   "outputs": [],
   "source": []
  },
  {
   "cell_type": "code",
   "execution_count": null,
   "id": "92661b07",
   "metadata": {},
   "outputs": [],
   "source": []
  },
  {
   "cell_type": "code",
   "execution_count": null,
   "id": "c0a83b23",
   "metadata": {},
   "outputs": [],
   "source": []
  },
  {
   "cell_type": "code",
   "execution_count": null,
   "id": "1ce8eba9",
   "metadata": {},
   "outputs": [],
   "source": []
  },
  {
   "cell_type": "code",
   "execution_count": null,
   "id": "757b4f84",
   "metadata": {},
   "outputs": [],
   "source": []
  },
  {
   "cell_type": "code",
   "execution_count": null,
   "id": "145a4512",
   "metadata": {},
   "outputs": [],
   "source": []
  },
  {
   "cell_type": "code",
   "execution_count": null,
   "id": "873285c8",
   "metadata": {},
   "outputs": [],
   "source": []
  },
  {
   "cell_type": "code",
   "execution_count": null,
   "id": "0c7b9184",
   "metadata": {},
   "outputs": [],
   "source": []
  },
  {
   "cell_type": "code",
   "execution_count": null,
   "id": "e577135c",
   "metadata": {},
   "outputs": [],
   "source": []
  },
  {
   "cell_type": "code",
   "execution_count": null,
   "id": "7fff4862",
   "metadata": {},
   "outputs": [],
   "source": []
  },
  {
   "cell_type": "code",
   "execution_count": null,
   "id": "48dbad17",
   "metadata": {},
   "outputs": [],
   "source": []
  },
  {
   "cell_type": "code",
   "execution_count": null,
   "id": "1f2334c9",
   "metadata": {},
   "outputs": [],
   "source": []
  },
  {
   "cell_type": "code",
   "execution_count": null,
   "id": "69a8fb79",
   "metadata": {},
   "outputs": [],
   "source": []
  },
  {
   "cell_type": "code",
   "execution_count": null,
   "id": "4a0b71c0",
   "metadata": {},
   "outputs": [],
   "source": []
  },
  {
   "cell_type": "code",
   "execution_count": null,
   "id": "0b7881ea",
   "metadata": {},
   "outputs": [],
   "source": []
  },
  {
   "cell_type": "code",
   "execution_count": null,
   "id": "67a02695",
   "metadata": {},
   "outputs": [],
   "source": []
  }
 ],
 "metadata": {
  "kernelspec": {
   "display_name": "Python 3 (ipykernel)",
   "language": "python",
   "name": "python3"
  },
  "language_info": {
   "codemirror_mode": {
    "name": "ipython",
    "version": 3
   },
   "file_extension": ".py",
   "mimetype": "text/x-python",
   "name": "python",
   "nbconvert_exporter": "python",
   "pygments_lexer": "ipython3",
   "version": "3.9.7"
  }
 },
 "nbformat": 4,
 "nbformat_minor": 5
}
